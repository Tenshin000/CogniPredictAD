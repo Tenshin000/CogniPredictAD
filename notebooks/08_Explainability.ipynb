{
 "cells": [
  {
   "cell_type": "markdown",
   "metadata": {},
   "source": [
    "# Explainability"
   ]
  },
  {
   "cell_type": "markdown",
   "metadata": {},
   "source": [
    "In this notebook we will see the feature importance of the models. "
   ]
  },
  {
   "cell_type": "code",
   "execution_count": null,
   "metadata": {},
   "outputs": [],
   "source": [
    "import os\n",
    "import joblib\n",
    "import numpy as np\n",
    "import pandas as pd\n",
    "\n",
    "from CogniPredictAD.visualization import ModelExplainer\n",
    "\n",
    "pd.set_option('display.max_rows', 116)\n",
    "pd.set_option('display.max_columns', 40)\n",
    "pd.set_option('display.max_info_columns', 40) \n",
    "\n",
    "train = pd.read_csv(\"../data/train.csv\")\n",
    "\n",
    "# Target column\n",
    "y_train = train['DX']\n",
    "\n",
    "# All other columns as features\n",
    "X_train = train.drop(columns=['DX'])"
   ]
  },
  {
   "cell_type": "markdown",
   "metadata": {},
   "source": [
    "## Dataset with `CDRSB`, `LDELTOTAL`, and `mPACCdigit` with Classification"
   ]
  },
  {
   "cell_type": "code",
   "execution_count": null,
   "metadata": {},
   "outputs": [],
   "source": [
    "# Load models from folder\n",
    "models_dir = \"../results/all_models/1\"\n",
    "models = []\n",
    "\n",
    "for fname in os.listdir(models_dir):\n",
    "    if fname.endswith(\".pkl\"):  \n",
    "        model_path = os.path.join(models_dir, fname)\n",
    "        try:\n",
    "            model = joblib.load(model_path)\n",
    "            model_name = os.path.splitext(fname)[0]\n",
    "            models.append((model_name, model))\n",
    "            print(f\"Loaded model: {model_name}\")\n",
    "        except Exception as e:\n",
    "            print(f\"Could not load {fname}: {e}\")\n",
    "\n",
    "# Initialize ModelExplainer\n",
    "explainer1 = ModelExplainer(\n",
    "    models=models,\n",
    "    X_train=X_train,\n",
    "    y_train=y_train,\n",
    "    feature_names=list(X_train.columns),\n",
    "    class_names=np.unique(y_train).tolist()\n",
    ")\n",
    "\n",
    "# Generate SHAP summary plots\n",
    "explainer1.shap_summary_plots()"
   ]
  },
  {
   "cell_type": "markdown",
   "metadata": {},
   "source": [
    "## Dataset without `CDRSB`, `LDELTOTAL`, and `mPACCdigit` with Classification"
   ]
  },
  {
   "cell_type": "code",
   "execution_count": null,
   "metadata": {},
   "outputs": [],
   "source": [
    "X_train.drop(columns=['CDRSB', 'LDELTOTAL', 'mPACCdigit'], axis=1, inplace=True)\n",
    "\n",
    "# Load models from folder\n",
    "models_dir = \"../results/all_models/2\"\n",
    "models = []\n",
    "\n",
    "for fname in os.listdir(models_dir):\n",
    "    if fname.endswith(\".pkl\"):  \n",
    "        model_path = os.path.join(models_dir, fname)\n",
    "        try:\n",
    "            model = joblib.load(model_path)\n",
    "            model_name = os.path.splitext(fname)[0]\n",
    "            models.append((model_name, model))\n",
    "            print(f\"Loaded model: {model_name}\")\n",
    "        except Exception as e:\n",
    "            print(f\"Could not load {fname}: {e}\")\n",
    "\n",
    "# Initialize ModelExplainer\n",
    "explainer2 = ModelExplainer(\n",
    "    models=models,\n",
    "    X_train=X_train,\n",
    "    y_train=y_train,\n",
    "    feature_names=list(X_train.columns),\n",
    "    class_names=np.unique(y_train).tolist()\n",
    ")\n",
    "\n",
    "# Generate SHAP summary plots\n",
    "explainer2.shap_summary_plots()"
   ]
  }
 ],
 "metadata": {
  "kernelspec": {
   "display_name": "CogniPredictAD",
   "language": "python",
   "name": "python3"
  },
  "language_info": {
   "codemirror_mode": {
    "name": "ipython",
    "version": 3
   },
   "file_extension": ".py",
   "mimetype": "text/x-python",
   "name": "python",
   "nbconvert_exporter": "python",
   "pygments_lexer": "ipython3",
   "version": "3.11.13"
  }
 },
 "nbformat": 4,
 "nbformat_minor": 4
}
