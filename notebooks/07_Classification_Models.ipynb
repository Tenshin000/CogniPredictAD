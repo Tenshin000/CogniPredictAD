{
 "cells": [
  {
   "cell_type": "markdown",
   "metadata": {},
   "source": [
    "# Classification Models\n"
   ]
  },
  {
   "cell_type": "markdown",
   "metadata": {},
   "source": [
    "In this notebook we will be building classification models on preprocessed data."
   ]
  },
  {
   "cell_type": "code",
   "execution_count": null,
   "metadata": {},
   "outputs": [],
   "source": [
    "import os\n",
    "import joblib\n",
    "import numpy as np\n",
    "import pandas as pd\n",
    "import matplotlib.pyplot as plt\n",
    "import seaborn as sns\n",
    "import shap\n",
    "import warnings\n",
    "\n",
    "from CogniPredictAD.visualization import Visualizer\n",
    "from CogniPredictAD.classification import ADNIClassifier\n",
    "\n",
    "pd.set_option('display.max_rows', 116)\n",
    "pd.set_option('display.max_columns', 40)\n",
    "pd.set_option('display.max_info_columns', 40) \n",
    "\n",
    "warnings.filterwarnings(\"ignore\", category=UserWarning)\n",
    "warnings.filterwarnings(\n",
    "    \"ignore\",\n",
    "    message=\".*The `disp` and `iprint` options of the L-BFGS-B solver are deprecated.*\",\n",
    "    category=DeprecationWarning\n",
    ")\n",
    "\n",
    "train = pd.read_csv(\"../data/train.csv\")\n",
    "test = pd.read_csv(\"../data/test.csv\")\n",
    "\n",
    "train"
   ]
  },
  {
   "cell_type": "code",
   "execution_count": null,
   "metadata": {},
   "outputs": [],
   "source": [
    "viz = Visualizer(train)\n",
    "viz.count_plot(\n",
    "    x=\"DX\",\n",
    "    figsize=(8, 5),\n",
    "    palette=\"viridis\",\n",
    "    order = [0, 1, 2, 3],\n",
    "    xlabel=\"Diagnosis\",\n",
    "    ylabel=\"Number of Patients\",\n",
    "    title=\"Distribution of Patients by Diagnosis (DX)\"\n",
    ")"
   ]
  },
  {
   "cell_type": "markdown",
   "metadata": {},
   "source": [
    "We already see that: \n",
    "- CN:   717 -> 37.07%\n",
    "- EMCI: 336 -> 17.37%\n",
    "- LMCI: 548 -> 28.34%\n",
    "- AD:   333 -> 17.22%"
   ]
  },
  {
   "cell_type": "code",
   "execution_count": null,
   "metadata": {},
   "outputs": [],
   "source": [
    "# Target column\n",
    "y_train = train['DX']\n",
    "\n",
    "# All other columns as features\n",
    "X_train = train.drop(columns=['DX'])"
   ]
  },
  {
   "cell_type": "markdown",
   "metadata": {},
   "source": [
    "## Dataset with `CDRSB`, `LDELTOTAL`, and `mPACCdigit` with Standard Classification"
   ]
  },
  {
   "cell_type": "markdown",
   "metadata": {},
   "source": [
    "### No Sampling"
   ]
  },
  {
   "cell_type": "code",
   "execution_count": null,
   "metadata": {},
   "outputs": [],
   "source": [
    "classifier = ADNIClassifier(classifier=\"Standard1\")\n",
    "result_df_1, per_class_df_1 = classifier.fit_evaluate_store_models(X_train, y_train, output_dir=\"../results/all_models/1_NX_NS\")"
   ]
  },
  {
   "cell_type": "markdown",
   "metadata": {},
   "source": [
    "### Hybrid Sampling"
   ]
  },
  {
   "cell_type": "markdown",
   "metadata": {},
   "source": [
    "... "
   ]
  },
  {
   "cell_type": "markdown",
   "metadata": {},
   "source": [
    "## Dataset with `CDRSB`, `LDELTOTAL`, and `mPACCdigit` with XAI Classification"
   ]
  },
  {
   "cell_type": "markdown",
   "metadata": {},
   "source": [
    "### No Sampling"
   ]
  },
  {
   "cell_type": "code",
   "execution_count": null,
   "metadata": {},
   "outputs": [],
   "source": [
    "classifier = ADNIClassifier(classifier=\"XAI1\")\n",
    "result_df_3, per_class_df_3 = classifier.fit_evaluate_store_models(X_train, y_train, output_dir=\"../results/all_models/1_X_NS\")"
   ]
  },
  {
   "cell_type": "markdown",
   "metadata": {},
   "source": [
    "### Hybrid Sampling"
   ]
  },
  {
   "cell_type": "markdown",
   "metadata": {},
   "source": [
    "... "
   ]
  },
  {
   "cell_type": "markdown",
   "metadata": {},
   "source": [
    "## Dataset without `CDRSB`, `LDELTOTAL`, and `mPACCdigit` with Standard Classification"
   ]
  },
  {
   "cell_type": "code",
   "execution_count": null,
   "metadata": {},
   "outputs": [],
   "source": [
    "train.drop(columns=['CDRSB', 'LDELTOTAL', 'mPACCdigit'], axis=1, inplace=True)"
   ]
  },
  {
   "cell_type": "markdown",
   "metadata": {},
   "source": [
    "### No Sampling"
   ]
  },
  {
   "cell_type": "code",
   "execution_count": null,
   "metadata": {},
   "outputs": [],
   "source": [
    "classifier = ADNIClassifier(classifier=\"Standard2\")\n",
    "result_df_5, per_class_df_5 = classifier.fit_evaluate_store_models(X_train, y_train, output_dir=\"../results/all_models/2_NX_NS\")"
   ]
  },
  {
   "cell_type": "markdown",
   "metadata": {},
   "source": [
    "### Hybrid Sampling"
   ]
  },
  {
   "cell_type": "markdown",
   "metadata": {},
   "source": [
    "... "
   ]
  },
  {
   "cell_type": "markdown",
   "metadata": {},
   "source": [
    "## Dataset without `CDRSB`, `LDELTOTAL`, and `mPACCdigit` with XAI Classification"
   ]
  },
  {
   "cell_type": "code",
   "execution_count": null,
   "metadata": {},
   "outputs": [],
   "source": [
    "# train.drop(columns=['CDRSB', 'LDELTOTAL', 'mPACCdigit'], axis=1, inplace=True)"
   ]
  },
  {
   "cell_type": "markdown",
   "metadata": {},
   "source": [
    "### No Sampling"
   ]
  },
  {
   "cell_type": "code",
   "execution_count": null,
   "metadata": {},
   "outputs": [],
   "source": [
    "classifier = ADNIClassifier(classifier=\"XAI2\")\n",
    "result_df_7, per_class_df_7 = classifier.fit_evaluate_store_models(X_train, y_train, output_dir=\"../results/all_models/2_X_NS\")"
   ]
  },
  {
   "cell_type": "markdown",
   "metadata": {},
   "source": [
    "### Hybrid Sampling"
   ]
  },
  {
   "cell_type": "markdown",
   "metadata": {},
   "source": [
    "... "
   ]
  }
 ],
 "metadata": {
  "kernelspec": {
   "display_name": "CogniPredictAD",
   "language": "python",
   "name": "python3"
  },
  "language_info": {
   "codemirror_mode": {
    "name": "ipython",
    "version": 3
   },
   "file_extension": ".py",
   "mimetype": "text/x-python",
   "name": "python",
   "nbconvert_exporter": "python",
   "pygments_lexer": "ipython3",
   "version": "3.11.13"
  }
 },
 "nbformat": 4,
 "nbformat_minor": 4
}
