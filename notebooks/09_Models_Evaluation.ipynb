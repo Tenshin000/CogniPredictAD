{
 "cells": [
  {
   "cell_type": "markdown",
   "metadata": {},
   "source": [
    "# Model Evaluation"
   ]
  },
  {
   "cell_type": "markdown",
   "metadata": {},
   "source": [
    "In this notebook we will choose the 4 models. "
   ]
  },
  {
   "cell_type": "code",
   "execution_count": null,
   "metadata": {},
   "outputs": [],
   "source": [
    "import os\n",
    "import pickle\n",
    "import numpy as np\n",
    "import pandas as pd\n",
    "\n",
    "from CogniPredictAD.classification import ADNIClassifier\n",
    "\n",
    "pd.set_option('display.max_rows', 116)\n",
    "pd.set_option('display.max_columns', 40)\n",
    "pd.set_option('display.max_info_columns', 40) \n",
    "\n",
    "\n",
    "train = pd.read_csv(\"../data/train.csv\")\n",
    "test = pd.read_csv(\"../data/test.csv\")\n",
    "\n",
    "# Target column\n",
    "y_train = train['DX']\n",
    "\n",
    "# All other columns as features\n",
    "X_train = train.drop(columns=['DX'])\n",
    "\n",
    "# Target column\n",
    "y_test = test['DX']\n",
    "\n",
    "# All other columns as features\n",
    "X_test = test.drop(columns=['DX'])\n",
    "\n",
    "classifier = ADNIClassifier()"
   ]
  },
  {
   "cell_type": "markdown",
   "metadata": {},
   "source": [
    "## Dataset with `CDRSB`, `LDELTOTAL`, and `mPACCdigit` with Classification"
   ]
  },
  {
   "cell_type": "markdown",
   "metadata": {},
   "source": [
    "**Let's see which of these models performs best on the test set and which one will therefore be chosen. Models ending in 0 are models built without using sampling, while those ending in 1 are models built using Hybrid Sampling.**"
   ]
  },
  {
   "cell_type": "code",
   "execution_count": null,
   "metadata": {},
   "outputs": [],
   "source": [
    "out = classifier.evaluate_models_from_dir(\n",
    "                models_dir=\"../results/all_models/1\",\n",
    "                X_train=X_train, y_train=y_train,\n",
    "                X_test=X_test, y_test=y_test,\n",
    "                cv_splits=5, cv_repeats=3,\n",
    "                display_individual_tables=True\n",
    "            )"
   ]
  },
  {
   "cell_type": "markdown",
   "metadata": {},
   "source": [
    "## Dataset without `CDRSB`, `LDELTOTAL`, and `mPACCdigit` with Classification"
   ]
  },
  {
   "cell_type": "markdown",
   "metadata": {},
   "source": [
    "**Let's see which of these models performs best on the test set and which one will therefore be chosen. Models ending in 0 are models built without using sampling, while those ending in 1 are models built using Hybrid Sampling.**"
   ]
  },
  {
   "cell_type": "code",
   "execution_count": null,
   "metadata": {},
   "outputs": [],
   "source": [
    "X_train.drop(columns=['CDRSB', 'LDELTOTAL', 'mPACCdigit'], axis=1, inplace=True)\n",
    "X_test.drop(columns=['CDRSB', 'LDELTOTAL', 'mPACCdigit'], axis=1, inplace=True)\n",
    "out = classifier.evaluate_models_from_dir(\n",
    "                models_dir=\"../results/all_models/2\",\n",
    "                X_train=X_train, y_train=y_train,\n",
    "                X_test=X_test, y_test=y_test,\n",
    "                cv_splits=5, cv_repeats=3,\n",
    "                display_individual_tables=True\n",
    "            )"
   ]
  },
  {
   "cell_type": "markdown",
   "metadata": {},
   "source": [
    "..."
   ]
  }
 ],
 "metadata": {
  "kernelspec": {
   "display_name": "CogniPredictAD",
   "language": "python",
   "name": "python3"
  },
  "language_info": {
   "codemirror_mode": {
    "name": "ipython",
    "version": 3
   },
   "file_extension": ".py",
   "mimetype": "text/x-python",
   "name": "python",
   "nbconvert_exporter": "python",
   "pygments_lexer": "ipython3",
   "version": "3.11.13"
  }
 },
 "nbformat": 4,
 "nbformat_minor": 4
}
